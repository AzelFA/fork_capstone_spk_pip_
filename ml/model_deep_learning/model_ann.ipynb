{
 "cells": [
  {
   "cell_type": "markdown",
   "id": "de3e1215",
   "metadata": {},
   "source": [
    "# Import Library"
   ]
  },
  {
   "cell_type": "code",
   "execution_count": 8,
   "id": "ae1df9aa",
   "metadata": {},
   "outputs": [],
   "source": [
    "import pandas as pd\n",
    "import numpy as np\n",
    "import seaborn as sns\n",
    "import matplotlib.pyplot as plt\n",
    "\n",
    "import warnings\n",
    "warnings.filterwarnings(\"ignore\")"
   ]
  },
  {
   "cell_type": "markdown",
   "id": "bbc7c4d6",
   "metadata": {},
   "source": [
    "# Load data"
   ]
  },
  {
   "cell_type": "code",
   "execution_count": 9,
   "id": "ac395f25",
   "metadata": {},
   "outputs": [
    {
     "data": {
      "text/html": [
       "<div>\n",
       "<style scoped>\n",
       "    .dataframe tbody tr th:only-of-type {\n",
       "        vertical-align: middle;\n",
       "    }\n",
       "\n",
       "    .dataframe tbody tr th {\n",
       "        vertical-align: top;\n",
       "    }\n",
       "\n",
       "    .dataframe thead th {\n",
       "        text-align: right;\n",
       "    }\n",
       "</style>\n",
       "<table border=\"1\" class=\"dataframe\">\n",
       "  <thead>\n",
       "    <tr style=\"text-align: right;\">\n",
       "      <th></th>\n",
       "      <th>Alat Transportasi</th>\n",
       "      <th>Pekerjaan Orang Tua</th>\n",
       "      <th>Penghasilan Orang Tua</th>\n",
       "      <th>Jumlah Tanggungan</th>\n",
       "      <th>Pemilik KIP</th>\n",
       "      <th>Pemilik KPS</th>\n",
       "      <th>Status</th>\n",
       "    </tr>\n",
       "  </thead>\n",
       "  <tbody>\n",
       "    <tr>\n",
       "      <th>0</th>\n",
       "      <td>Jalan kaki</td>\n",
       "      <td>Wirausaha</td>\n",
       "      <td>4213001</td>\n",
       "      <td>1</td>\n",
       "      <td>Tidak</td>\n",
       "      <td>Tidak</td>\n",
       "      <td>Tidak Layak</td>\n",
       "    </tr>\n",
       "    <tr>\n",
       "      <th>1</th>\n",
       "      <td>Sepeda motor</td>\n",
       "      <td>Lainnya</td>\n",
       "      <td>3249958</td>\n",
       "      <td>Lebih dari 3</td>\n",
       "      <td>Tidak</td>\n",
       "      <td>Tidak</td>\n",
       "      <td>Layak</td>\n",
       "    </tr>\n",
       "    <tr>\n",
       "      <th>2</th>\n",
       "      <td>Jalan kaki</td>\n",
       "      <td>Peternak</td>\n",
       "      <td>4166323</td>\n",
       "      <td>2</td>\n",
       "      <td>Tidak</td>\n",
       "      <td>Tidak</td>\n",
       "      <td>Tidak Layak</td>\n",
       "    </tr>\n",
       "    <tr>\n",
       "      <th>3</th>\n",
       "      <td>Jalan kaki</td>\n",
       "      <td>Lainnya</td>\n",
       "      <td>3261966</td>\n",
       "      <td>2</td>\n",
       "      <td>Tidak</td>\n",
       "      <td>Tidak</td>\n",
       "      <td>Tidak Layak</td>\n",
       "    </tr>\n",
       "    <tr>\n",
       "      <th>4</th>\n",
       "      <td>Sepeda motor</td>\n",
       "      <td>Wirausaha</td>\n",
       "      <td>3254943</td>\n",
       "      <td>Lebih dari 3</td>\n",
       "      <td>Tidak</td>\n",
       "      <td>Tidak</td>\n",
       "      <td>Layak</td>\n",
       "    </tr>\n",
       "  </tbody>\n",
       "</table>\n",
       "</div>"
      ],
      "text/plain": [
       "  Alat Transportasi Pekerjaan Orang Tua  Penghasilan Orang Tua  \\\n",
       "0        Jalan kaki           Wirausaha                4213001   \n",
       "1      Sepeda motor             Lainnya                3249958   \n",
       "2        Jalan kaki            Peternak                4166323   \n",
       "3        Jalan kaki             Lainnya                3261966   \n",
       "4      Sepeda motor           Wirausaha                3254943   \n",
       "\n",
       "  Jumlah Tanggungan Pemilik KIP Pemilik KPS       Status  \n",
       "0                 1       Tidak       Tidak  Tidak Layak  \n",
       "1      Lebih dari 3       Tidak       Tidak        Layak  \n",
       "2                 2       Tidak       Tidak  Tidak Layak  \n",
       "3                 2       Tidak       Tidak  Tidak Layak  \n",
       "4      Lebih dari 3       Tidak       Tidak        Layak  "
      ]
     },
     "execution_count": 9,
     "metadata": {},
     "output_type": "execute_result"
    }
   ],
   "source": [
    "df = pd.read_excel(\"../dataset/data_pip_cleaned.xlsx\")\n",
    "df.head()"
   ]
  },
  {
   "cell_type": "code",
   "execution_count": 10,
   "id": "36a3e5ef",
   "metadata": {},
   "outputs": [
    {
     "name": "stdout",
     "output_type": "stream",
     "text": [
      "<class 'pandas.core.frame.DataFrame'>\n",
      "RangeIndex: 1000 entries, 0 to 999\n",
      "Data columns (total 7 columns):\n",
      " #   Column                 Non-Null Count  Dtype \n",
      "---  ------                 --------------  ----- \n",
      " 0   Alat Transportasi      1000 non-null   object\n",
      " 1   Pekerjaan Orang Tua    1000 non-null   object\n",
      " 2   Penghasilan Orang Tua  1000 non-null   int64 \n",
      " 3   Jumlah Tanggungan      1000 non-null   object\n",
      " 4   Pemilik KIP            1000 non-null   object\n",
      " 5   Pemilik KPS            1000 non-null   object\n",
      " 6   Status                 1000 non-null   object\n",
      "dtypes: int64(1), object(6)\n",
      "memory usage: 54.8+ KB\n"
     ]
    }
   ],
   "source": [
    "df.info()"
   ]
  },
  {
   "cell_type": "markdown",
   "id": "06d7892a",
   "metadata": {},
   "source": [
    "# Preprocessing Data"
   ]
  },
  {
   "cell_type": "code",
   "execution_count": 11,
   "id": "aa62a1c8",
   "metadata": {},
   "outputs": [
    {
     "data": {
      "text/html": [
       "<div>\n",
       "<style scoped>\n",
       "    .dataframe tbody tr th:only-of-type {\n",
       "        vertical-align: middle;\n",
       "    }\n",
       "\n",
       "    .dataframe tbody tr th {\n",
       "        vertical-align: top;\n",
       "    }\n",
       "\n",
       "    .dataframe thead th {\n",
       "        text-align: right;\n",
       "    }\n",
       "</style>\n",
       "<table border=\"1\" class=\"dataframe\">\n",
       "  <thead>\n",
       "    <tr style=\"text-align: right;\">\n",
       "      <th></th>\n",
       "      <th>Alat Transportasi</th>\n",
       "      <th>Pekerjaan Orang Tua</th>\n",
       "      <th>Penghasilan Orang Tua</th>\n",
       "      <th>Jumlah Tanggungan</th>\n",
       "      <th>Pemilik KIP</th>\n",
       "      <th>Pemilik KPS</th>\n",
       "      <th>Status</th>\n",
       "    </tr>\n",
       "  </thead>\n",
       "  <tbody>\n",
       "    <tr>\n",
       "      <th>0</th>\n",
       "      <td>Jalan kaki</td>\n",
       "      <td>Wirausaha</td>\n",
       "      <td>1.179092</td>\n",
       "      <td>1</td>\n",
       "      <td>Tidak</td>\n",
       "      <td>Tidak</td>\n",
       "      <td>Tidak Layak</td>\n",
       "    </tr>\n",
       "    <tr>\n",
       "      <th>1</th>\n",
       "      <td>Sepeda motor</td>\n",
       "      <td>Lainnya</td>\n",
       "      <td>0.417046</td>\n",
       "      <td>Lebih dari 3</td>\n",
       "      <td>Tidak</td>\n",
       "      <td>Tidak</td>\n",
       "      <td>Layak</td>\n",
       "    </tr>\n",
       "    <tr>\n",
       "      <th>2</th>\n",
       "      <td>Jalan kaki</td>\n",
       "      <td>Peternak</td>\n",
       "      <td>1.142156</td>\n",
       "      <td>2</td>\n",
       "      <td>Tidak</td>\n",
       "      <td>Tidak</td>\n",
       "      <td>Tidak Layak</td>\n",
       "    </tr>\n",
       "    <tr>\n",
       "      <th>3</th>\n",
       "      <td>Jalan kaki</td>\n",
       "      <td>Lainnya</td>\n",
       "      <td>0.426548</td>\n",
       "      <td>2</td>\n",
       "      <td>Tidak</td>\n",
       "      <td>Tidak</td>\n",
       "      <td>Tidak Layak</td>\n",
       "    </tr>\n",
       "    <tr>\n",
       "      <th>4</th>\n",
       "      <td>Sepeda motor</td>\n",
       "      <td>Wirausaha</td>\n",
       "      <td>0.420991</td>\n",
       "      <td>Lebih dari 3</td>\n",
       "      <td>Tidak</td>\n",
       "      <td>Tidak</td>\n",
       "      <td>Layak</td>\n",
       "    </tr>\n",
       "  </tbody>\n",
       "</table>\n",
       "</div>"
      ],
      "text/plain": [
       "  Alat Transportasi Pekerjaan Orang Tua  Penghasilan Orang Tua  \\\n",
       "0        Jalan kaki           Wirausaha               1.179092   \n",
       "1      Sepeda motor             Lainnya               0.417046   \n",
       "2        Jalan kaki            Peternak               1.142156   \n",
       "3        Jalan kaki             Lainnya               0.426548   \n",
       "4      Sepeda motor           Wirausaha               0.420991   \n",
       "\n",
       "  Jumlah Tanggungan Pemilik KIP Pemilik KPS       Status  \n",
       "0                 1       Tidak       Tidak  Tidak Layak  \n",
       "1      Lebih dari 3       Tidak       Tidak        Layak  \n",
       "2                 2       Tidak       Tidak  Tidak Layak  \n",
       "3                 2       Tidak       Tidak  Tidak Layak  \n",
       "4      Lebih dari 3       Tidak       Tidak        Layak  "
      ]
     },
     "execution_count": 11,
     "metadata": {},
     "output_type": "execute_result"
    }
   ],
   "source": [
    "# pilih otomatis kolom numerik\n",
    "num_columns = df.select_dtypes(include=[np.number]).columns\n",
    "\n",
    "# standarkan fitur numerik\n",
    "from sklearn.preprocessing import StandardScaler\n",
    "scaler = StandardScaler()\n",
    "df[num_columns] = scaler.fit_transform(df[num_columns])\n",
    "df.head()"
   ]
  },
  {
   "cell_type": "code",
   "execution_count": 12,
   "id": "21a469e3",
   "metadata": {},
   "outputs": [
    {
     "data": {
      "text/html": [
       "<div>\n",
       "<style scoped>\n",
       "    .dataframe tbody tr th:only-of-type {\n",
       "        vertical-align: middle;\n",
       "    }\n",
       "\n",
       "    .dataframe tbody tr th {\n",
       "        vertical-align: top;\n",
       "    }\n",
       "\n",
       "    .dataframe thead th {\n",
       "        text-align: right;\n",
       "    }\n",
       "</style>\n",
       "<table border=\"1\" class=\"dataframe\">\n",
       "  <thead>\n",
       "    <tr style=\"text-align: right;\">\n",
       "      <th></th>\n",
       "      <th>Alat Transportasi</th>\n",
       "      <th>Pekerjaan Orang Tua</th>\n",
       "      <th>Penghasilan Orang Tua</th>\n",
       "      <th>Jumlah Tanggungan</th>\n",
       "      <th>Pemilik KIP</th>\n",
       "      <th>Pemilik KPS</th>\n",
       "      <th>Status</th>\n",
       "    </tr>\n",
       "  </thead>\n",
       "  <tbody>\n",
       "    <tr>\n",
       "      <th>0</th>\n",
       "      <td>0</td>\n",
       "      <td>4</td>\n",
       "      <td>1.179092</td>\n",
       "      <td>0</td>\n",
       "      <td>0</td>\n",
       "      <td>0</td>\n",
       "      <td>1</td>\n",
       "    </tr>\n",
       "    <tr>\n",
       "      <th>1</th>\n",
       "      <td>1</td>\n",
       "      <td>1</td>\n",
       "      <td>0.417046</td>\n",
       "      <td>3</td>\n",
       "      <td>0</td>\n",
       "      <td>0</td>\n",
       "      <td>0</td>\n",
       "    </tr>\n",
       "    <tr>\n",
       "      <th>2</th>\n",
       "      <td>0</td>\n",
       "      <td>3</td>\n",
       "      <td>1.142156</td>\n",
       "      <td>1</td>\n",
       "      <td>0</td>\n",
       "      <td>0</td>\n",
       "      <td>1</td>\n",
       "    </tr>\n",
       "    <tr>\n",
       "      <th>3</th>\n",
       "      <td>0</td>\n",
       "      <td>1</td>\n",
       "      <td>0.426548</td>\n",
       "      <td>1</td>\n",
       "      <td>0</td>\n",
       "      <td>0</td>\n",
       "      <td>1</td>\n",
       "    </tr>\n",
       "    <tr>\n",
       "      <th>4</th>\n",
       "      <td>1</td>\n",
       "      <td>4</td>\n",
       "      <td>0.420991</td>\n",
       "      <td>3</td>\n",
       "      <td>0</td>\n",
       "      <td>0</td>\n",
       "      <td>0</td>\n",
       "    </tr>\n",
       "  </tbody>\n",
       "</table>\n",
       "</div>"
      ],
      "text/plain": [
       "   Alat Transportasi  Pekerjaan Orang Tua  Penghasilan Orang Tua  \\\n",
       "0                  0                    4               1.179092   \n",
       "1                  1                    1               0.417046   \n",
       "2                  0                    3               1.142156   \n",
       "3                  0                    1               0.426548   \n",
       "4                  1                    4               0.420991   \n",
       "\n",
       "   Jumlah Tanggungan  Pemilik KIP  Pemilik KPS  Status  \n",
       "0                  0            0            0       1  \n",
       "1                  3            0            0       0  \n",
       "2                  1            0            0       1  \n",
       "3                  1            0            0       1  \n",
       "4                  3            0            0       0  "
      ]
     },
     "execution_count": 12,
     "metadata": {},
     "output_type": "execute_result"
    }
   ],
   "source": [
    "from sklearn.preprocessing import LabelEncoder\n",
    "\n",
    "le = LabelEncoder()\n",
    "\n",
    "# pilih tipe kategorical\n",
    "cat_columns = df.select_dtypes(include=['object']).columns\n",
    "\n",
    "# encode categorical variables\n",
    "for col in cat_columns:\n",
    "    df[col] = le.fit_transform(df[col])\n",
    "\n",
    "df.head()"
   ]
  },
  {
   "cell_type": "markdown",
   "id": "91f26138",
   "metadata": {},
   "source": [
    "# Split data"
   ]
  },
  {
   "cell_type": "code",
   "execution_count": 13,
   "id": "ae480cac",
   "metadata": {},
   "outputs": [],
   "source": [
    "# Split data\n",
    "from sklearn.model_selection import train_test_split\n",
    "\n",
    "X = df.drop(columns=['Status'])\n",
    "y = df['Status']\n",
    "\n",
    "X_train, X_test, y_train, y_test = train_test_split(X, y, test_size=0.2, random_state=42)"
   ]
  },
  {
   "cell_type": "code",
   "execution_count": 14,
   "id": "0f4b748a",
   "metadata": {},
   "outputs": [
    {
     "name": "stdout",
     "output_type": "stream",
     "text": [
      "X_train shape: (800, 6)\n",
      "X_test shape: (200, 6)\n",
      "y_train shape: (800,)\n",
      "y_test shape: (200,)\n"
     ]
    }
   ],
   "source": [
    "# prrint shape\n",
    "print(f\"X_train shape: {X_train.shape}\")\n",
    "print(f\"X_test shape: {X_test.shape}\")\n",
    "print(f\"y_train shape: {y_train.shape}\")\n",
    "print(f\"y_test shape: {y_test.shape}\")"
   ]
  },
  {
   "cell_type": "markdown",
   "id": "33ea5db0",
   "metadata": {},
   "source": [
    "# Modeling ANN"
   ]
  },
  {
   "cell_type": "code",
   "execution_count": null,
   "id": "15b402ee",
   "metadata": {},
   "outputs": [
    {
     "name": "stdout",
     "output_type": "stream",
     "text": [
      "Model: \"sequential_1\"\n",
      "_________________________________________________________________\n",
      " Layer (type)                Output Shape              Param #   \n",
      "=================================================================\n",
      " dense_3 (Dense)             (None, 64)                448       \n",
      "                                                                 \n",
      " dense_4 (Dense)             (None, 64)                4160      \n",
      "                                                                 \n",
      " dropout (Dropout)           (None, 64)                0         \n",
      "                                                                 \n",
      " dense_5 (Dense)             (None, 32)                2080      \n",
      "                                                                 \n",
      " dense_6 (Dense)             (None, 16)                528       \n",
      "                                                                 \n",
      " dense_7 (Dense)             (None, 8)                 136       \n",
      "                                                                 \n",
      " dense_8 (Dense)             (None, 1)                 9         \n",
      "                                                                 \n",
      "=================================================================\n",
      "Total params: 7361 (28.75 KB)\n",
      "Trainable params: 7361 (28.75 KB)\n",
      "Non-trainable params: 0 (0.00 Byte)\n",
      "_________________________________________________________________\n"
     ]
    }
   ],
   "source": [
    "import tensorflow as tf\n",
    "from tensorflow.keras.models import Sequential\n",
    "from tensorflow.keras.layers import Dense, Dropout\n",
    "from tensorflow.keras.utils import plot_model\n",
    "\n",
    "#  Build model ANN\n",
    "model = Sequential([\n",
    "    Dense(64, activation='relu', input_shape=(X_train.shape[1],)),\n",
    "    Dense(64, activation='relu'),\n",
    "    Dropout(0.3),\n",
    "    Dense(32, activation='relu'),\n",
    "    Dense(16, activation='relu'),\n",
    "    Dense(8, activation='relu'),\n",
    "    Dense(1, activation='sigmoid')\n",
    "])\n",
    "\n",
    "model.compile(optimizer='adam',\n",
    "              loss='binary_crossentropy',\n",
    "              metrics=['accuracy'])\n",
    "\n",
    "model.summary()"
   ]
  },
  {
   "cell_type": "markdown",
   "id": "80238bfa",
   "metadata": {},
   "source": [
    "# Training Model"
   ]
  },
  {
   "cell_type": "code",
   "execution_count": 30,
   "id": "d2441495",
   "metadata": {},
   "outputs": [
    {
     "name": "stdout",
     "output_type": "stream",
     "text": [
      "Epoch 1/50\n",
      "20/20 [==============================] - 0s 5ms/step - loss: 0.6200 - accuracy: 0.6609 - val_loss: 0.6520 - val_accuracy: 0.6438\n",
      "Epoch 2/50\n",
      "20/20 [==============================] - 0s 3ms/step - loss: 0.6127 - accuracy: 0.6766 - val_loss: 0.6558 - val_accuracy: 0.6438\n",
      "Epoch 3/50\n",
      "20/20 [==============================] - 0s 3ms/step - loss: 0.6167 - accuracy: 0.6797 - val_loss: 0.6536 - val_accuracy: 0.6313\n",
      "Epoch 4/50\n",
      "20/20 [==============================] - 0s 3ms/step - loss: 0.6153 - accuracy: 0.6812 - val_loss: 0.6619 - val_accuracy: 0.6313\n",
      "Epoch 5/50\n",
      "20/20 [==============================] - 0s 3ms/step - loss: 0.6045 - accuracy: 0.7047 - val_loss: 0.6615 - val_accuracy: 0.6125\n",
      "Epoch 6/50\n",
      "20/20 [==============================] - 0s 3ms/step - loss: 0.6039 - accuracy: 0.6875 - val_loss: 0.6610 - val_accuracy: 0.6500\n",
      "Epoch 7/50\n",
      "20/20 [==============================] - 0s 3ms/step - loss: 0.6095 - accuracy: 0.6750 - val_loss: 0.6504 - val_accuracy: 0.6812\n",
      "Epoch 8/50\n",
      "20/20 [==============================] - 0s 3ms/step - loss: 0.6019 - accuracy: 0.7000 - val_loss: 0.6521 - val_accuracy: 0.6438\n",
      "Epoch 9/50\n",
      "20/20 [==============================] - 0s 3ms/step - loss: 0.6045 - accuracy: 0.7000 - val_loss: 0.6547 - val_accuracy: 0.6687\n",
      "Epoch 10/50\n",
      "20/20 [==============================] - 0s 3ms/step - loss: 0.6005 - accuracy: 0.6922 - val_loss: 0.6499 - val_accuracy: 0.6500\n",
      "Epoch 11/50\n",
      "20/20 [==============================] - 0s 3ms/step - loss: 0.6019 - accuracy: 0.6984 - val_loss: 0.6417 - val_accuracy: 0.6875\n",
      "Epoch 12/50\n",
      "20/20 [==============================] - 0s 3ms/step - loss: 0.6059 - accuracy: 0.7000 - val_loss: 0.6491 - val_accuracy: 0.6562\n",
      "Epoch 13/50\n",
      "20/20 [==============================] - 0s 5ms/step - loss: 0.6011 - accuracy: 0.7078 - val_loss: 0.6494 - val_accuracy: 0.6625\n",
      "Epoch 14/50\n",
      "20/20 [==============================] - 0s 3ms/step - loss: 0.5995 - accuracy: 0.6953 - val_loss: 0.6443 - val_accuracy: 0.6875\n",
      "Epoch 15/50\n",
      "20/20 [==============================] - 0s 5ms/step - loss: 0.5987 - accuracy: 0.6984 - val_loss: 0.6502 - val_accuracy: 0.6375\n",
      "Epoch 16/50\n",
      "20/20 [==============================] - 0s 3ms/step - loss: 0.5947 - accuracy: 0.7016 - val_loss: 0.6483 - val_accuracy: 0.6812\n",
      "Epoch 17/50\n",
      "20/20 [==============================] - 0s 3ms/step - loss: 0.5939 - accuracy: 0.7063 - val_loss: 0.6505 - val_accuracy: 0.6750\n",
      "Epoch 18/50\n",
      "20/20 [==============================] - 0s 3ms/step - loss: 0.6069 - accuracy: 0.6906 - val_loss: 0.6474 - val_accuracy: 0.6500\n",
      "Epoch 19/50\n",
      "20/20 [==============================] - 0s 3ms/step - loss: 0.6032 - accuracy: 0.6938 - val_loss: 0.6466 - val_accuracy: 0.6875\n",
      "Epoch 20/50\n",
      "20/20 [==============================] - 0s 3ms/step - loss: 0.5938 - accuracy: 0.7078 - val_loss: 0.6487 - val_accuracy: 0.6562\n",
      "Epoch 21/50\n",
      "20/20 [==============================] - 0s 3ms/step - loss: 0.5952 - accuracy: 0.7016 - val_loss: 0.6546 - val_accuracy: 0.6812\n",
      "Epoch 22/50\n",
      "20/20 [==============================] - 0s 3ms/step - loss: 0.5842 - accuracy: 0.7031 - val_loss: 0.6544 - val_accuracy: 0.6438\n",
      "Epoch 23/50\n",
      "20/20 [==============================] - 0s 3ms/step - loss: 0.5958 - accuracy: 0.7047 - val_loss: 0.6490 - val_accuracy: 0.6875\n",
      "Epoch 24/50\n",
      "20/20 [==============================] - 0s 3ms/step - loss: 0.5948 - accuracy: 0.7047 - val_loss: 0.6500 - val_accuracy: 0.6438\n",
      "Epoch 25/50\n",
      "20/20 [==============================] - 0s 3ms/step - loss: 0.5812 - accuracy: 0.6984 - val_loss: 0.6483 - val_accuracy: 0.6500\n",
      "Epoch 26/50\n",
      "20/20 [==============================] - 0s 3ms/step - loss: 0.5920 - accuracy: 0.7063 - val_loss: 0.6433 - val_accuracy: 0.6750\n",
      "Epoch 27/50\n",
      "20/20 [==============================] - 0s 3ms/step - loss: 0.5870 - accuracy: 0.7297 - val_loss: 0.6554 - val_accuracy: 0.6625\n",
      "Epoch 28/50\n",
      "20/20 [==============================] - 0s 3ms/step - loss: 0.5819 - accuracy: 0.7016 - val_loss: 0.6534 - val_accuracy: 0.6812\n",
      "Epoch 29/50\n",
      "20/20 [==============================] - 0s 3ms/step - loss: 0.5905 - accuracy: 0.7063 - val_loss: 0.6524 - val_accuracy: 0.6687\n",
      "Epoch 30/50\n",
      "20/20 [==============================] - 0s 3ms/step - loss: 0.5792 - accuracy: 0.7203 - val_loss: 0.6491 - val_accuracy: 0.6750\n",
      "Epoch 31/50\n",
      "20/20 [==============================] - 0s 3ms/step - loss: 0.5797 - accuracy: 0.7156 - val_loss: 0.6503 - val_accuracy: 0.6812\n",
      "Epoch 32/50\n",
      "20/20 [==============================] - 0s 3ms/step - loss: 0.5814 - accuracy: 0.7125 - val_loss: 0.6518 - val_accuracy: 0.6562\n",
      "Epoch 33/50\n",
      "20/20 [==============================] - 0s 3ms/step - loss: 0.5822 - accuracy: 0.7047 - val_loss: 0.6622 - val_accuracy: 0.6438\n",
      "Epoch 34/50\n",
      "20/20 [==============================] - 0s 3ms/step - loss: 0.5810 - accuracy: 0.7125 - val_loss: 0.6559 - val_accuracy: 0.6313\n",
      "Epoch 35/50\n",
      "20/20 [==============================] - 0s 3ms/step - loss: 0.5905 - accuracy: 0.6969 - val_loss: 0.6586 - val_accuracy: 0.6750\n",
      "Epoch 36/50\n",
      "20/20 [==============================] - 0s 3ms/step - loss: 0.5761 - accuracy: 0.7156 - val_loss: 0.6555 - val_accuracy: 0.6438\n",
      "Epoch 37/50\n",
      "20/20 [==============================] - 0s 3ms/step - loss: 0.5809 - accuracy: 0.6984 - val_loss: 0.6490 - val_accuracy: 0.6687\n",
      "Epoch 38/50\n",
      "20/20 [==============================] - 0s 3ms/step - loss: 0.5727 - accuracy: 0.7188 - val_loss: 0.6486 - val_accuracy: 0.6562\n",
      "Epoch 39/50\n",
      "20/20 [==============================] - 0s 3ms/step - loss: 0.5783 - accuracy: 0.7172 - val_loss: 0.6507 - val_accuracy: 0.6687\n",
      "Epoch 40/50\n",
      "20/20 [==============================] - 0s 3ms/step - loss: 0.5810 - accuracy: 0.7125 - val_loss: 0.6391 - val_accuracy: 0.6875\n",
      "Epoch 41/50\n",
      "20/20 [==============================] - 0s 3ms/step - loss: 0.5644 - accuracy: 0.7188 - val_loss: 0.6455 - val_accuracy: 0.6625\n",
      "Epoch 42/50\n",
      "20/20 [==============================] - 0s 3ms/step - loss: 0.5742 - accuracy: 0.7078 - val_loss: 0.6552 - val_accuracy: 0.6562\n",
      "Epoch 43/50\n",
      "20/20 [==============================] - 0s 3ms/step - loss: 0.5793 - accuracy: 0.7219 - val_loss: 0.6523 - val_accuracy: 0.6438\n",
      "Epoch 44/50\n",
      "20/20 [==============================] - 0s 3ms/step - loss: 0.5757 - accuracy: 0.7094 - val_loss: 0.6400 - val_accuracy: 0.6562\n",
      "Epoch 45/50\n",
      "20/20 [==============================] - 0s 3ms/step - loss: 0.5651 - accuracy: 0.7125 - val_loss: 0.6552 - val_accuracy: 0.6375\n",
      "Epoch 46/50\n",
      "20/20 [==============================] - 0s 3ms/step - loss: 0.5773 - accuracy: 0.7156 - val_loss: 0.6630 - val_accuracy: 0.6250\n",
      "Epoch 47/50\n",
      "20/20 [==============================] - 0s 3ms/step - loss: 0.5770 - accuracy: 0.7078 - val_loss: 0.6515 - val_accuracy: 0.6500\n",
      "Epoch 48/50\n",
      "20/20 [==============================] - 0s 3ms/step - loss: 0.5684 - accuracy: 0.7172 - val_loss: 0.6575 - val_accuracy: 0.6500\n",
      "Epoch 49/50\n",
      "20/20 [==============================] - 0s 3ms/step - loss: 0.5809 - accuracy: 0.6922 - val_loss: 0.6522 - val_accuracy: 0.6625\n",
      "Epoch 50/50\n",
      "20/20 [==============================] - 0s 3ms/step - loss: 0.5650 - accuracy: 0.7172 - val_loss: 0.6563 - val_accuracy: 0.6687\n"
     ]
    }
   ],
   "source": [
    "# Train model\n",
    "history = model.fit(X_train, y_train, epochs=50, batch_size=32, validation_split=0.2)"
   ]
  },
  {
   "cell_type": "code",
   "execution_count": 31,
   "id": "07a80be5",
   "metadata": {},
   "outputs": [
    {
     "data": {
      "image/png": "[encoded data removed]",
      "text/plain": [
       "<Figure size 1200x400 with 2 Axes>"
      ]
     },
     "metadata": {},
     "output_type": "display_data"
    }
   ],
   "source": [
    "# Plot training history\n",
    "plt.figure(figsize=(12, 4))\n",
    "plt.subplot(1, 2, 1)\n",
    "plt.plot(history.history['accuracy'], label='Train Accuracy')\n",
    "plt.plot(history.history['val_accuracy'], label='Validation Accuracy')\n",
    "plt.title('Model Accuracy')\n",
    "plt.xlabel('Epochs')\n",
    "plt.ylabel('Accuracy')\n",
    "plt.legend()\n",
    "plt.subplot(1, 2, 2)\n",
    "plt.plot(history.history['loss'], label='Train Loss')\n",
    "plt.plot(history.history['val_loss'], label='Validation Loss')\n",
    "plt.title('Model Loss')\n",
    "plt.xlabel('Epochs')\n",
    "plt.ylabel('Loss')\n",
    "plt.legend()\n",
    "plt.tight_layout()\n",
    "plt.show()"
   ]
  },
  {
   "cell_type": "code",
   "execution_count": 32,
   "id": "c5c26888",
   "metadata": {},
   "outputs": [
    {
     "name": "stdout",
     "output_type": "stream",
     "text": [
      "7/7 [==============================] - 0s 2ms/step - loss: 0.6880 - accuracy: 0.6400\n",
      "25/25 [==============================] - 0s 1ms/step - loss: 0.5750 - accuracy: 0.7088\n",
      "Test Accuracy: 0.6399999856948853\n",
      "Test Loss: 0.6879982948303223\n",
      "=====================================\n",
      "Train Accuracy: 0.7087500095367432\n",
      "Train Loss: 0.5750095844268799\n"
     ]
    }
   ],
   "source": [
    "# Evaluate model\n",
    "loss, accuracy = model.evaluate(X_test, y_test)\n",
    "loss_train, accuracy_train = model.evaluate(X_train, y_train)\n",
    "\n",
    "print(f\"Test Accuracy: {accuracy}\")\n",
    "print(f\"Test Loss: {loss}\")\n",
    "print(\"=====================================\")\n",
    "print(f\"Train Accuracy: {accuracy_train}\")\n",
    "print(f\"Train Loss: {loss_train}\")\n",
    "\n",
    "\n"
   ]
  },
  {
   "cell_type": "code",
   "execution_count": 33,
   "id": "148dcc83",
   "metadata": {},
   "outputs": [
    {
     "name": "stdout",
     "output_type": "stream",
     "text": [
      "7/7 [==============================] - 0s 1ms/step\n",
      "Accuracy: 0.64\n"
     ]
    }
   ],
   "source": [
    "# print akurasi score\n",
    "from sklearn.metrics import accuracy_score, classification_report, confusion_matrix\n",
    "y_pred = model.predict(X_test)\n",
    "y_pred = (y_pred > 0.5).astype(int)\n",
    "print(f\"Accuracy: {accuracy_score(y_test, y_pred)}\")"
   ]
  },
  {
   "cell_type": "code",
   "execution_count": 34,
   "id": "cccf564d",
   "metadata": {},
   "outputs": [
    {
     "name": "stdout",
     "output_type": "stream",
     "text": [
      "7/7 [==============================] - 0s 1ms/step\n"
     ]
    },
    {
     "data": {
      "image/png": "[encoded data removed]",
      "text/plain": [
       "<Figure size 800x600 with 1 Axes>"
      ]
     },
     "metadata": {},
     "output_type": "display_data"
    }
   ],
   "source": [
    "# Predict\n",
    "y_pred = model.predict(X_test)\n",
    "y_pred = (y_pred > 0.5).astype(int)\n",
    "\n",
    "# Confusion matrix\n",
    "from sklearn.metrics import confusion_matrix, classification_report\n",
    "import seaborn as sns\n",
    "import matplotlib.pyplot as plt\n",
    "cm = confusion_matrix(y_test, y_pred)\n",
    "plt.figure(figsize=(8, 6))\n",
    "sns.heatmap(cm, annot=True, fmt='d', cmap='Blues', cbar=False)\n",
    "plt.title('Confusion Matrix')\n",
    "plt.xlabel('Predicted')\n",
    "plt.ylabel('True')\n",
    "plt.show()"
   ]
  }
 ],
 "metadata": {
  "kernelspec": {
   "display_name": "Python 3",
   "language": "python",
   "name": "python3"
  },
  "language_info": {
   "codemirror_mode": {
    "name": "ipython",
    "version": 3
   },
   "file_extension": ".py",
   "mimetype": "text/x-python",
   "name": "python",
   "nbconvert_exporter": "python",
   "pygments_lexer": "ipython3",
   "version": "3.11.2"
  }
 },
 "nbformat": 4,
 "nbformat_minor": 5
}
