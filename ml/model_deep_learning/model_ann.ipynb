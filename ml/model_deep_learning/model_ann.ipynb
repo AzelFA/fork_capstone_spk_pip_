{
 "cells": [
  {
   "cell_type": "markdown",
   "id": "de3e1215",
   "metadata": {},
   "source": [
    "# Import Library"
   ]
  },
  {
   "cell_type": "code",
   "execution_count": 1,
   "id": "ae1df9aa",
   "metadata": {},
   "outputs": [],
   "source": [
    "import pandas as pd\n",
    "import numpy as np\n",
    "import seaborn as sns\n",
    "import matplotlib.pyplot as plt\n",
    "\n",
    "import warnings\n",
    "warnings.filterwarnings(\"ignore\")"
   ]
  },
  {
   "cell_type": "markdown",
   "id": "bbc7c4d6",
   "metadata": {},
   "source": [
    "# Load data"
   ]
  },
  {
   "cell_type": "code",
   "execution_count": 2,
   "id": "ac395f25",
   "metadata": {},
   "outputs": [
    {
     "data": {
      "text/html": [
       "<div>\n",
       "<style scoped>\n",
       "    .dataframe tbody tr th:only-of-type {\n",
       "        vertical-align: middle;\n",
       "    }\n",
       "\n",
       "    .dataframe tbody tr th {\n",
       "        vertical-align: top;\n",
       "    }\n",
       "\n",
       "    .dataframe thead th {\n",
       "        text-align: right;\n",
       "    }\n",
       "</style>\n",
       "<table border=\"1\" class=\"dataframe\">\n",
       "  <thead>\n",
       "    <tr style=\"text-align: right;\">\n",
       "      <th></th>\n",
       "      <th>Alat Transportasi</th>\n",
       "      <th>Pekerjaan Orang Tua</th>\n",
       "      <th>Penghasilan Orang Tua</th>\n",
       "      <th>Jumlah Tanggungan</th>\n",
       "      <th>Pemilik KIP</th>\n",
       "      <th>Pemilik KPS</th>\n",
       "      <th>Status</th>\n",
       "    </tr>\n",
       "  </thead>\n",
       "  <tbody>\n",
       "    <tr>\n",
       "      <th>0</th>\n",
       "      <td>Jalan kaki</td>\n",
       "      <td>Wirausaha</td>\n",
       "      <td>4213001</td>\n",
       "      <td>1</td>\n",
       "      <td>Tidak</td>\n",
       "      <td>Tidak</td>\n",
       "      <td>Tidak Layak</td>\n",
       "    </tr>\n",
       "    <tr>\n",
       "      <th>1</th>\n",
       "      <td>Sepeda motor</td>\n",
       "      <td>Lainnya</td>\n",
       "      <td>3249958</td>\n",
       "      <td>Lebih dari 3</td>\n",
       "      <td>Tidak</td>\n",
       "      <td>Tidak</td>\n",
       "      <td>Layak</td>\n",
       "    </tr>\n",
       "    <tr>\n",
       "      <th>2</th>\n",
       "      <td>Jalan kaki</td>\n",
       "      <td>Peternak</td>\n",
       "      <td>4166323</td>\n",
       "      <td>2</td>\n",
       "      <td>Tidak</td>\n",
       "      <td>Tidak</td>\n",
       "      <td>Tidak Layak</td>\n",
       "    </tr>\n",
       "    <tr>\n",
       "      <th>3</th>\n",
       "      <td>Jalan kaki</td>\n",
       "      <td>Lainnya</td>\n",
       "      <td>3261966</td>\n",
       "      <td>2</td>\n",
       "      <td>Tidak</td>\n",
       "      <td>Tidak</td>\n",
       "      <td>Tidak Layak</td>\n",
       "    </tr>\n",
       "    <tr>\n",
       "      <th>4</th>\n",
       "      <td>Sepeda motor</td>\n",
       "      <td>Wirausaha</td>\n",
       "      <td>3254943</td>\n",
       "      <td>Lebih dari 3</td>\n",
       "      <td>Tidak</td>\n",
       "      <td>Tidak</td>\n",
       "      <td>Layak</td>\n",
       "    </tr>\n",
       "  </tbody>\n",
       "</table>\n",
       "</div>"
      ],
      "text/plain": [
       "  Alat Transportasi Pekerjaan Orang Tua  Penghasilan Orang Tua  \\\n",
       "0        Jalan kaki           Wirausaha                4213001   \n",
       "1      Sepeda motor             Lainnya                3249958   \n",
       "2        Jalan kaki            Peternak                4166323   \n",
       "3        Jalan kaki             Lainnya                3261966   \n",
       "4      Sepeda motor           Wirausaha                3254943   \n",
       "\n",
       "  Jumlah Tanggungan Pemilik KIP Pemilik KPS       Status  \n",
       "0                 1       Tidak       Tidak  Tidak Layak  \n",
       "1      Lebih dari 3       Tidak       Tidak        Layak  \n",
       "2                 2       Tidak       Tidak  Tidak Layak  \n",
       "3                 2       Tidak       Tidak  Tidak Layak  \n",
       "4      Lebih dari 3       Tidak       Tidak        Layak  "
      ]
     },
     "execution_count": 2,
     "metadata": {},
     "output_type": "execute_result"
    }
   ],
   "source": [
    "df = pd.read_excel(\"../dataset/data_pip_cleaned.xlsx\")\n",
    "df.head()"
   ]
  },
  {
   "cell_type": "code",
   "execution_count": 3,
   "id": "36a3e5ef",
   "metadata": {},
   "outputs": [
    {
     "name": "stdout",
     "output_type": "stream",
     "text": [
      "<class 'pandas.core.frame.DataFrame'>\n",
      "RangeIndex: 1000 entries, 0 to 999\n",
      "Data columns (total 7 columns):\n",
      " #   Column                 Non-Null Count  Dtype \n",
      "---  ------                 --------------  ----- \n",
      " 0   Alat Transportasi      1000 non-null   object\n",
      " 1   Pekerjaan Orang Tua    1000 non-null   object\n",
      " 2   Penghasilan Orang Tua  1000 non-null   int64 \n",
      " 3   Jumlah Tanggungan      1000 non-null   object\n",
      " 4   Pemilik KIP            1000 non-null   object\n",
      " 5   Pemilik KPS            1000 non-null   object\n",
      " 6   Status                 1000 non-null   object\n",
      "dtypes: int64(1), object(6)\n",
      "memory usage: 54.8+ KB\n"
     ]
    }
   ],
   "source": [
    "df.info()"
   ]
  },
  {
   "cell_type": "markdown",
   "id": "06d7892a",
   "metadata": {},
   "source": [
    "# Preprocessing Data"
   ]
  },
  {
   "cell_type": "markdown",
   "id": "92c69278",
   "metadata": {},
   "source": [
    "Kelompokan data penghasilan orang tua : rendah, sedang, tinggi"
   ]
  },
  {
   "cell_type": "code",
   "execution_count": 4,
   "id": "a168c450",
   "metadata": {},
   "outputs": [],
   "source": [
    "df_binning = df.copy()"
   ]
  },
  {
   "cell_type": "code",
   "execution_count": 5,
   "id": "ad079982",
   "metadata": {},
   "outputs": [
    {
     "name": "stdout",
     "output_type": "stream",
     "text": [
      "   Penghasilan Orang Tua Kategori\n",
      "0                4213001   tinggi\n",
      "1                3249958   tinggi\n",
      "2                4166323   tinggi\n",
      "3                3261966   tinggi\n",
      "4                3254943   tinggi\n",
      "5                4691725   tinggi\n",
      "6                2528375   sedang\n",
      "7                1016130   rendah\n",
      "8                3911749   tinggi\n",
      "9                4647122   tinggi\n"
     ]
    }
   ],
   "source": [
    "import pandas as pd\n",
    "\n",
    "# Misal df sudah ada dan kolom penghasilan bernama 'Penghasilan Orang Tua'\n",
    "def kategori_penghasilan(nilai):\n",
    "    if nilai <= 1500000:\n",
    "        return 'rendah'\n",
    "    elif nilai <= 3000000:\n",
    "        return 'sedang'\n",
    "    else:\n",
    "        return 'tinggi'\n",
    "\n",
    "# Terapkan fungsi ke kolom\n",
    "df_binning['Penghasilan Orang Tua'] = df['Penghasilan Orang Tua'].apply(kategori_penghasilan)\n",
    "\n",
    "# Cek hasil\n",
    "cek = pd.DataFrame({\n",
    "    'Penghasilan Orang Tua': df['Penghasilan Orang Tua'],\n",
    "    'Kategori': df_binning['Penghasilan Orang Tua']\n",
    "})\n",
    "print(cek.head(10))"
   ]
  },
  {
   "cell_type": "code",
   "execution_count": 6,
   "id": "3ee92c37",
   "metadata": {},
   "outputs": [
    {
     "data": {
      "image/png": "[encoded data removed]",
      "text/plain": [
       "<Figure size 800x500 with 1 Axes>"
      ]
     },
     "metadata": {},
     "output_type": "display_data"
    }
   ],
   "source": [
    "import matplotlib.pyplot as plt\n",
    "\n",
    "# Hitung jumlah masing-masing kategori\n",
    "counts = df_binning['Penghasilan Orang Tua'].value_counts().sort_index()\n",
    "\n",
    "# Plot bar chart\n",
    "plt.figure(figsize=(8,5))\n",
    "counts.plot(kind='bar')\n",
    "plt.title('Distribusi Kategori Penghasilan Orang Tua')\n",
    "plt.xlabel('Kategori Penghasilan')\n",
    "plt.ylabel('Jumlah Siswa')\n",
    "plt.xticks(rotation=0)\n",
    "plt.show()\n"
   ]
  },
  {
   "cell_type": "code",
   "execution_count": 7,
   "id": "19696c3e",
   "metadata": {},
   "outputs": [],
   "source": [
    "df = df_binning.copy()"
   ]
  },
  {
   "cell_type": "code",
   "execution_count": 8,
   "id": "478c9283",
   "metadata": {},
   "outputs": [
    {
     "data": {
      "text/html": [
       "<div>\n",
       "<style scoped>\n",
       "    .dataframe tbody tr th:only-of-type {\n",
       "        vertical-align: middle;\n",
       "    }\n",
       "\n",
       "    .dataframe tbody tr th {\n",
       "        vertical-align: top;\n",
       "    }\n",
       "\n",
       "    .dataframe thead th {\n",
       "        text-align: right;\n",
       "    }\n",
       "</style>\n",
       "<table border=\"1\" class=\"dataframe\">\n",
       "  <thead>\n",
       "    <tr style=\"text-align: right;\">\n",
       "      <th></th>\n",
       "      <th>Alat Transportasi</th>\n",
       "      <th>Pekerjaan Orang Tua</th>\n",
       "      <th>Penghasilan Orang Tua</th>\n",
       "      <th>Jumlah Tanggungan</th>\n",
       "      <th>Pemilik KIP</th>\n",
       "      <th>Pemilik KPS</th>\n",
       "      <th>Status</th>\n",
       "    </tr>\n",
       "  </thead>\n",
       "  <tbody>\n",
       "    <tr>\n",
       "      <th>0</th>\n",
       "      <td>Jalan kaki</td>\n",
       "      <td>Wirausaha</td>\n",
       "      <td>tinggi</td>\n",
       "      <td>1</td>\n",
       "      <td>Tidak</td>\n",
       "      <td>Tidak</td>\n",
       "      <td>Tidak Layak</td>\n",
       "    </tr>\n",
       "    <tr>\n",
       "      <th>1</th>\n",
       "      <td>Sepeda motor</td>\n",
       "      <td>Lainnya</td>\n",
       "      <td>tinggi</td>\n",
       "      <td>Lebih dari 3</td>\n",
       "      <td>Tidak</td>\n",
       "      <td>Tidak</td>\n",
       "      <td>Layak</td>\n",
       "    </tr>\n",
       "    <tr>\n",
       "      <th>2</th>\n",
       "      <td>Jalan kaki</td>\n",
       "      <td>Peternak</td>\n",
       "      <td>tinggi</td>\n",
       "      <td>2</td>\n",
       "      <td>Tidak</td>\n",
       "      <td>Tidak</td>\n",
       "      <td>Tidak Layak</td>\n",
       "    </tr>\n",
       "    <tr>\n",
       "      <th>3</th>\n",
       "      <td>Jalan kaki</td>\n",
       "      <td>Lainnya</td>\n",
       "      <td>tinggi</td>\n",
       "      <td>2</td>\n",
       "      <td>Tidak</td>\n",
       "      <td>Tidak</td>\n",
       "      <td>Tidak Layak</td>\n",
       "    </tr>\n",
       "    <tr>\n",
       "      <th>4</th>\n",
       "      <td>Sepeda motor</td>\n",
       "      <td>Wirausaha</td>\n",
       "      <td>tinggi</td>\n",
       "      <td>Lebih dari 3</td>\n",
       "      <td>Tidak</td>\n",
       "      <td>Tidak</td>\n",
       "      <td>Layak</td>\n",
       "    </tr>\n",
       "    <tr>\n",
       "      <th>...</th>\n",
       "      <td>...</td>\n",
       "      <td>...</td>\n",
       "      <td>...</td>\n",
       "      <td>...</td>\n",
       "      <td>...</td>\n",
       "      <td>...</td>\n",
       "      <td>...</td>\n",
       "    </tr>\n",
       "    <tr>\n",
       "      <th>995</th>\n",
       "      <td>Sepeda motor</td>\n",
       "      <td>Wirausaha</td>\n",
       "      <td>sedang</td>\n",
       "      <td>2</td>\n",
       "      <td>Tidak</td>\n",
       "      <td>Tidak</td>\n",
       "      <td>Tidak Layak</td>\n",
       "    </tr>\n",
       "    <tr>\n",
       "      <th>996</th>\n",
       "      <td>Jalan kaki</td>\n",
       "      <td>Buruh</td>\n",
       "      <td>sedang</td>\n",
       "      <td>1</td>\n",
       "      <td>Tidak</td>\n",
       "      <td>Tidak</td>\n",
       "      <td>Tidak Layak</td>\n",
       "    </tr>\n",
       "    <tr>\n",
       "      <th>997</th>\n",
       "      <td>Jalan kaki</td>\n",
       "      <td>Petani</td>\n",
       "      <td>tinggi</td>\n",
       "      <td>Lebih dari 3</td>\n",
       "      <td>Ya</td>\n",
       "      <td>Tidak</td>\n",
       "      <td>Tidak Layak</td>\n",
       "    </tr>\n",
       "    <tr>\n",
       "      <th>998</th>\n",
       "      <td>Sepeda motor</td>\n",
       "      <td>Petani</td>\n",
       "      <td>sedang</td>\n",
       "      <td>2</td>\n",
       "      <td>Tidak</td>\n",
       "      <td>Tidak</td>\n",
       "      <td>Tidak Layak</td>\n",
       "    </tr>\n",
       "    <tr>\n",
       "      <th>999</th>\n",
       "      <td>Sepeda motor</td>\n",
       "      <td>Peternak</td>\n",
       "      <td>sedang</td>\n",
       "      <td>2</td>\n",
       "      <td>Tidak</td>\n",
       "      <td>Tidak</td>\n",
       "      <td>Tidak Layak</td>\n",
       "    </tr>\n",
       "  </tbody>\n",
       "</table>\n",
       "<p>1000 rows × 7 columns</p>\n",
       "</div>"
      ],
      "text/plain": [
       "    Alat Transportasi Pekerjaan Orang Tua Penghasilan Orang Tua  \\\n",
       "0          Jalan kaki           Wirausaha                tinggi   \n",
       "1        Sepeda motor             Lainnya                tinggi   \n",
       "2          Jalan kaki            Peternak                tinggi   \n",
       "3          Jalan kaki             Lainnya                tinggi   \n",
       "4        Sepeda motor           Wirausaha                tinggi   \n",
       "..                ...                 ...                   ...   \n",
       "995      Sepeda motor           Wirausaha                sedang   \n",
       "996        Jalan kaki               Buruh                sedang   \n",
       "997        Jalan kaki              Petani                tinggi   \n",
       "998      Sepeda motor              Petani                sedang   \n",
       "999      Sepeda motor            Peternak                sedang   \n",
       "\n",
       "    Jumlah Tanggungan Pemilik KIP Pemilik KPS       Status  \n",
       "0                   1       Tidak       Tidak  Tidak Layak  \n",
       "1        Lebih dari 3       Tidak       Tidak        Layak  \n",
       "2                   2       Tidak       Tidak  Tidak Layak  \n",
       "3                   2       Tidak       Tidak  Tidak Layak  \n",
       "4        Lebih dari 3       Tidak       Tidak        Layak  \n",
       "..                ...         ...         ...          ...  \n",
       "995                 2       Tidak       Tidak  Tidak Layak  \n",
       "996                 1       Tidak       Tidak  Tidak Layak  \n",
       "997      Lebih dari 3          Ya       Tidak  Tidak Layak  \n",
       "998                 2       Tidak       Tidak  Tidak Layak  \n",
       "999                 2       Tidak       Tidak  Tidak Layak  \n",
       "\n",
       "[1000 rows x 7 columns]"
      ]
     },
     "execution_count": 8,
     "metadata": {},
     "output_type": "execute_result"
    }
   ],
   "source": [
    "df"
   ]
  },
  {
   "cell_type": "markdown",
   "id": "1c7ef876",
   "metadata": {},
   "source": [
    "Encode Kolom Kategori"
   ]
  },
  {
   "cell_type": "code",
   "execution_count": 9,
   "id": "21a469e3",
   "metadata": {},
   "outputs": [
    {
     "data": {
      "text/html": [
       "<div>\n",
       "<style scoped>\n",
       "    .dataframe tbody tr th:only-of-type {\n",
       "        vertical-align: middle;\n",
       "    }\n",
       "\n",
       "    .dataframe tbody tr th {\n",
       "        vertical-align: top;\n",
       "    }\n",
       "\n",
       "    .dataframe thead th {\n",
       "        text-align: right;\n",
       "    }\n",
       "</style>\n",
       "<table border=\"1\" class=\"dataframe\">\n",
       "  <thead>\n",
       "    <tr style=\"text-align: right;\">\n",
       "      <th></th>\n",
       "      <th>Alat Transportasi</th>\n",
       "      <th>Pekerjaan Orang Tua</th>\n",
       "      <th>Penghasilan Orang Tua</th>\n",
       "      <th>Jumlah Tanggungan</th>\n",
       "      <th>Pemilik KIP</th>\n",
       "      <th>Pemilik KPS</th>\n",
       "      <th>Status</th>\n",
       "    </tr>\n",
       "  </thead>\n",
       "  <tbody>\n",
       "    <tr>\n",
       "      <th>0</th>\n",
       "      <td>0</td>\n",
       "      <td>4</td>\n",
       "      <td>2</td>\n",
       "      <td>0</td>\n",
       "      <td>0</td>\n",
       "      <td>0</td>\n",
       "      <td>1</td>\n",
       "    </tr>\n",
       "    <tr>\n",
       "      <th>1</th>\n",
       "      <td>1</td>\n",
       "      <td>1</td>\n",
       "      <td>2</td>\n",
       "      <td>3</td>\n",
       "      <td>0</td>\n",
       "      <td>0</td>\n",
       "      <td>0</td>\n",
       "    </tr>\n",
       "    <tr>\n",
       "      <th>2</th>\n",
       "      <td>0</td>\n",
       "      <td>3</td>\n",
       "      <td>2</td>\n",
       "      <td>1</td>\n",
       "      <td>0</td>\n",
       "      <td>0</td>\n",
       "      <td>1</td>\n",
       "    </tr>\n",
       "    <tr>\n",
       "      <th>3</th>\n",
       "      <td>0</td>\n",
       "      <td>1</td>\n",
       "      <td>2</td>\n",
       "      <td>1</td>\n",
       "      <td>0</td>\n",
       "      <td>0</td>\n",
       "      <td>1</td>\n",
       "    </tr>\n",
       "    <tr>\n",
       "      <th>4</th>\n",
       "      <td>1</td>\n",
       "      <td>4</td>\n",
       "      <td>2</td>\n",
       "      <td>3</td>\n",
       "      <td>0</td>\n",
       "      <td>0</td>\n",
       "      <td>0</td>\n",
       "    </tr>\n",
       "  </tbody>\n",
       "</table>\n",
       "</div>"
      ],
      "text/plain": [
       "   Alat Transportasi  Pekerjaan Orang Tua  Penghasilan Orang Tua  \\\n",
       "0                  0                    4                      2   \n",
       "1                  1                    1                      2   \n",
       "2                  0                    3                      2   \n",
       "3                  0                    1                      2   \n",
       "4                  1                    4                      2   \n",
       "\n",
       "   Jumlah Tanggungan  Pemilik KIP  Pemilik KPS  Status  \n",
       "0                  0            0            0       1  \n",
       "1                  3            0            0       0  \n",
       "2                  1            0            0       1  \n",
       "3                  1            0            0       1  \n",
       "4                  3            0            0       0  "
      ]
     },
     "execution_count": 9,
     "metadata": {},
     "output_type": "execute_result"
    }
   ],
   "source": [
    "from sklearn.preprocessing import LabelEncoder\n",
    "\n",
    "le = LabelEncoder()\n",
    "\n",
    "# pilih tipe kategorical\n",
    "cat_columns = df.select_dtypes(include=['object']).columns\n",
    "\n",
    "# encode categorical variables\n",
    "for col in cat_columns:\n",
    "    df[col] = le.fit_transform(df[col])\n",
    "\n",
    "df.head()"
   ]
  },
  {
   "cell_type": "markdown",
   "id": "91f26138",
   "metadata": {},
   "source": [
    "# Split data"
   ]
  },
  {
   "cell_type": "code",
   "execution_count": 10,
   "id": "ae480cac",
   "metadata": {},
   "outputs": [],
   "source": [
    "# Split data\n",
    "from sklearn.model_selection import train_test_split\n",
    "\n",
    "X = df.drop(columns=['Status'])\n",
    "y = df['Status']\n",
    "\n",
    "X_train, X_test, y_train, y_test = train_test_split(X, y, test_size=0.2, random_state=42)"
   ]
  },
  {
   "cell_type": "code",
   "execution_count": 11,
   "id": "0f4b748a",
   "metadata": {},
   "outputs": [
    {
     "name": "stdout",
     "output_type": "stream",
     "text": [
      "X_train shape: (800, 6)\n",
      "X_test shape: (200, 6)\n",
      "y_train shape: (800,)\n",
      "y_test shape: (200,)\n"
     ]
    }
   ],
   "source": [
    "# prrint shape\n",
    "print(f\"X_train shape: {X_train.shape}\")\n",
    "print(f\"X_test shape: {X_test.shape}\")\n",
    "print(f\"y_train shape: {y_train.shape}\")\n",
    "print(f\"y_test shape: {y_test.shape}\")"
   ]
  },
  {
   "cell_type": "markdown",
   "id": "33ea5db0",
   "metadata": {},
   "source": [
    "# Modeling ANN"
   ]
  },
  {
   "cell_type": "code",
   "execution_count": 12,
   "id": "15b402ee",
   "metadata": {},
   "outputs": [
    {
     "name": "stdout",
     "output_type": "stream",
     "text": [
      "Model: \"sequential\"\n",
      "_________________________________________________________________\n",
      " Layer (type)                Output Shape              Param #   \n",
      "=================================================================\n",
      " dense (Dense)               (None, 256)               1792      \n",
      "                                                                 \n",
      " dense_1 (Dense)             (None, 128)               32896     \n",
      "                                                                 \n",
      " dropout (Dropout)           (None, 128)               0         \n",
      "                                                                 \n",
      " dense_2 (Dense)             (None, 1)                 129       \n",
      "                                                                 \n",
      "=================================================================\n",
      "Total params: 34817 (136.00 KB)\n",
      "Trainable params: 34817 (136.00 KB)\n",
      "Non-trainable params: 0 (0.00 Byte)\n",
      "_________________________________________________________________\n"
     ]
    }
   ],
   "source": [
    "import tensorflow as tf\n",
    "from tensorflow.keras.models import Sequential\n",
    "from tensorflow.keras.layers import Dense, Dropout\n",
    "from tensorflow.keras.utils import plot_model\n",
    "from tensorflow.keras.optimizers import Adam\n",
    "\n",
    "#  Build model ANN\n",
    "model = Sequential([\n",
    "    Dense(256, activation='relu', input_shape=(X_train.shape[1],)),\n",
    "    # Dropout(0.5),\n",
    "    Dense(128, activation='relu'),\n",
    "    Dropout(0.3),\n",
    "    Dense(1, activation='sigmoid')\n",
    "])\n",
    "\n",
    "model.compile(optimizer= Adam(learning_rate=0.001),\n",
    "              loss='binary_crossentropy',\n",
    "              metrics=['accuracy'])\n",
    "\n",
    "model.summary()"
   ]
  },
  {
   "cell_type": "markdown",
   "id": "80238bfa",
   "metadata": {},
   "source": [
    "# Training Model"
   ]
  },
  {
   "cell_type": "code",
   "execution_count": 13,
   "id": "d2441495",
   "metadata": {},
   "outputs": [
    {
     "name": "stdout",
     "output_type": "stream",
     "text": [
      "Epoch 1/50\n",
      "160/160 [==============================] - 1s 3ms/step - loss: 0.6690 - accuracy: 0.6172 - val_loss: 0.6916 - val_accuracy: 0.6062\n",
      "Epoch 2/50\n",
      "160/160 [==============================] - 0s 2ms/step - loss: 0.6460 - accuracy: 0.6234 - val_loss: 0.6510 - val_accuracy: 0.6000\n",
      "Epoch 3/50\n",
      "160/160 [==============================] - 0s 2ms/step - loss: 0.6431 - accuracy: 0.6562 - val_loss: 0.6350 - val_accuracy: 0.6125\n",
      "Epoch 4/50\n",
      "160/160 [==============================] - 0s 2ms/step - loss: 0.6299 - accuracy: 0.6703 - val_loss: 0.6835 - val_accuracy: 0.6438\n",
      "Epoch 5/50\n",
      "160/160 [==============================] - 0s 2ms/step - loss: 0.6332 - accuracy: 0.6641 - val_loss: 0.6486 - val_accuracy: 0.6062\n",
      "Epoch 6/50\n",
      "160/160 [==============================] - 0s 2ms/step - loss: 0.6314 - accuracy: 0.6750 - val_loss: 0.6429 - val_accuracy: 0.6062\n",
      "Epoch 7/50\n",
      "160/160 [==============================] - 0s 2ms/step - loss: 0.6204 - accuracy: 0.6766 - val_loss: 0.6463 - val_accuracy: 0.6438\n",
      "Epoch 8/50\n",
      "160/160 [==============================] - 0s 2ms/step - loss: 0.6253 - accuracy: 0.6781 - val_loss: 0.6440 - val_accuracy: 0.6250\n"
     ]
    }
   ],
   "source": [
    "# Train model\n",
    "from tensorflow.keras.callbacks import EarlyStopping\n",
    "\n",
    "early_stop = EarlyStopping(\n",
    "    monitor='val_loss',\n",
    "    patience=5,\n",
    "    restore_best_weights=True\n",
    ")\n",
    "\n",
    "history = model.fit(\n",
    "    X_train, y_train,\n",
    "    epochs=50,\n",
    "    batch_size=4,\n",
    "    validation_split=0.2,\n",
    "    callbacks=[early_stop],\n",
    "    verbose=1\n",
    ")\n"
   ]
  },
  {
   "cell_type": "code",
   "execution_count": 14,
   "id": "07a80be5",
   "metadata": {},
   "outputs": [
    {
     "data": {
      "image/png": "[encoded data removed]",
      "text/plain": [
       "<Figure size 1200x400 with 2 Axes>"
      ]
     },
     "metadata": {},
     "output_type": "display_data"
    }
   ],
   "source": [
    "# Plot training history\n",
    "plt.figure(figsize=(12, 4))\n",
    "plt.subplot(1, 2, 1)\n",
    "plt.plot(history.history['accuracy'], label='Train Accuracy')\n",
    "plt.plot(history.history['val_accuracy'], label='Validation Accuracy')\n",
    "plt.title('Model Accuracy')\n",
    "plt.xlabel('Epochs')\n",
    "plt.ylabel('Accuracy')\n",
    "plt.legend()\n",
    "plt.subplot(1, 2, 2)\n",
    "plt.plot(history.history['loss'], label='Train Loss')\n",
    "plt.plot(history.history['val_loss'], label='Validation Loss')\n",
    "plt.title('Model Loss')\n",
    "plt.xlabel('Epochs')\n",
    "plt.ylabel('Loss')\n",
    "plt.legend()\n",
    "plt.tight_layout()\n",
    "plt.show()"
   ]
  },
  {
   "cell_type": "code",
   "execution_count": 15,
   "id": "c5c26888",
   "metadata": {},
   "outputs": [
    {
     "name": "stdout",
     "output_type": "stream",
     "text": [
      "7/7 [==============================] - 0s 616us/step - loss: 0.6435 - accuracy: 0.6050\n",
      "25/25 [==============================] - 0s 2ms/step - loss: 0.6375 - accuracy: 0.6463\n",
      "Test Accuracy: 0.6050000190734863\n",
      "Test Loss: 0.6435065269470215\n",
      "=====================================\n",
      "Train Accuracy: 0.6462500095367432\n",
      "Train Loss: 0.6375262141227722\n"
     ]
    }
   ],
   "source": [
    "# Evaluate model\n",
    "loss, accuracy = model.evaluate(X_test, y_test)\n",
    "loss_train, accuracy_train = model.evaluate(X_train, y_train)\n",
    "\n",
    "print(f\"Test Accuracy: {accuracy}\")\n",
    "print(f\"Test Loss: {loss}\")\n",
    "print(\"=====================================\")\n",
    "print(f\"Train Accuracy: {accuracy_train}\")\n",
    "print(f\"Train Loss: {loss_train}\")\n",
    "\n",
    "\n"
   ]
  },
  {
   "cell_type": "code",
   "execution_count": 16,
   "id": "148dcc83",
   "metadata": {},
   "outputs": [
    {
     "name": "stdout",
     "output_type": "stream",
     "text": [
      "7/7 [==============================] - 0s 2ms/step\n",
      "Accuracy: 0.605\n"
     ]
    }
   ],
   "source": [
    "# print akurasi score\n",
    "from sklearn.metrics import accuracy_score, classification_report, confusion_matrix\n",
    "y_pred = model.predict(X_test)\n",
    "y_pred = (y_pred > 0.5).astype(int)\n",
    "print(f\"Accuracy: {accuracy_score(y_test, y_pred)}\")"
   ]
  },
  {
   "cell_type": "code",
   "execution_count": 17,
   "id": "cccf564d",
   "metadata": {},
   "outputs": [
    {
     "name": "stdout",
     "output_type": "stream",
     "text": [
      "7/7 [==============================] - 0s 2ms/step\n"
     ]
    },
    {
     "data": {
      "image/png": "[encoded data removed]",
      "text/plain": [
       "<Figure size 800x600 with 2 Axes>"
      ]
     },
     "metadata": {},
     "output_type": "display_data"
    }
   ],
   "source": [
    "# Predict\n",
    "y_pred = model.predict(X_test)\n",
    "y_pred = (y_pred > 0.5).astype(int)\n",
    "\n",
    "# Confusion matrix\n",
    "from sklearn.metrics import confusion_matrix, classification_report\n",
    "import seaborn as sns\n",
    "import matplotlib.pyplot as plt\n",
    "cm = confusion_matrix(y_test, y_pred)\n",
    "plt.figure(figsize=(8, 6))\n",
    "sns.heatmap(cm, annot=True, fmt='d', cmap='Blues', cbar=True)\n",
    "plt.title('Confusion Matrix')\n",
    "plt.xlabel('Predicted')\n",
    "plt.ylabel('True')\n",
    "plt.show()"
   ]
  },
  {
   "cell_type": "code",
   "execution_count": 19,
   "id": "6dca67a9",
   "metadata": {},
   "outputs": [],
   "source": [
    "# Simpan model\n",
    "model.save('model/model_ann.keras')"
   ]
  },
  {
   "cell_type": "code",
   "execution_count": 20,
   "id": "84815df2",
   "metadata": {},
   "outputs": [],
   "source": [
    "# Simpan arsitektur model ke file JSON\n",
    "model_json = model.to_json()\n",
    "with open(\"model/model_ann.json\", \"w\") as json_file:\n",
    "    json_file.write(model_json)\n",
    "\n",
    "# Simpan bobot model ke file HDF5\n",
    "model.save_weights(\"model/model_ann_weights.h5\")\n"
   ]
  }
 ],
 "metadata": {
  "kernelspec": {
   "display_name": "Python 3",
   "language": "python",
   "name": "python3"
  },
  "language_info": {
   "codemirror_mode": {
    "name": "ipython",
    "version": 3
   },
   "file_extension": ".py",
   "mimetype": "text/x-python",
   "name": "python",
   "nbconvert_exporter": "python",
   "pygments_lexer": "ipython3",
   "version": "3.11.2"
  }
 },
 "nbformat": 4,
 "nbformat_minor": 5
}
